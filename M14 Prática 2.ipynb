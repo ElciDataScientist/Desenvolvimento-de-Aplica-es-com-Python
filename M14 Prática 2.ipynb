{
  "nbformat": 4,
  "nbformat_minor": 0,
  "metadata": {
    "colab": {
      "provenance": []
    },
    "kernelspec": {
      "name": "python3",
      "display_name": "Python 3"
    },
    "language_info": {
      "name": "python"
    }
  },
  "cells": [
    {
      "cell_type": "code",
      "execution_count": 26,
      "metadata": {
        "id": "rFYjJuouOdMU"
      },
      "outputs": [],
      "source": [
        "import os\n",
        "import sys\n",
        "import pandas as pd\n",
        "import matplotlib.pyplot as plt\n",
        "import numpy as np"
      ]
    },
    {
      "cell_type": "code",
      "source": [
        "def abreviatura_para_mes(abreviaturas):\n",
        "    meses = {\n",
        "        'JAN': '01', 'FEV': '02', 'MAR': '03', 'ABR': '04',\n",
        "        'MAI': '05', 'JUN': '06', 'JUL': '07', 'AGO': '08',\n",
        "        'SET': '09', 'OUT': '10', 'NOV': '11', 'DEZ': '12'\n",
        "    }\n",
        "    ano = '2019'  # Definindo ano fixo para simplicidade\n",
        "    return [f\"{ano}-{meses[abreviatura]}\" for abreviatura in abreviaturas]\n"
      ],
      "metadata": {
        "id": "ZOFnpjmgPP1x"
      },
      "execution_count": 2,
      "outputs": []
    },
    {
      "cell_type": "code",
      "source": [
        "def gerar_analise(meses):\n",
        "    # Criação dos diretórios\n",
        "    for mes in meses:\n",
        "        if not os.path.exists(mes):\n",
        "            os.makedirs(mes)"
      ],
      "metadata": {
        "id": "W1lwWc9iPSjM"
      },
      "execution_count": 3,
      "outputs": []
    },
    {
      "cell_type": "code",
      "source": [
        "df = pd.read_csv('/content/SINASC_RO_2019_MAR.csv')"
      ],
      "metadata": {
        "id": "tebwLJyNPU78"
      },
      "execution_count": 12,
      "outputs": []
    },
    {
      "cell_type": "code",
      "source": [
        "df2 = pd.read_csv('/content/SINASC_RO_2019_ABR.csv')"
      ],
      "metadata": {
        "id": "HHSqb-ZEPd16"
      },
      "execution_count": 13,
      "outputs": []
    },
    {
      "cell_type": "code",
      "source": [
        "df3 = pd.read_csv('/content/SINASC_RO_2019_MAI.csv')"
      ],
      "metadata": {
        "id": "kd-ObFScPmqv"
      },
      "execution_count": 14,
      "outputs": []
    },
    {
      "cell_type": "code",
      "source": [
        "df4 = pd.read_csv('/content/SINASC_RO_2019_JUN.csv')"
      ],
      "metadata": {
        "id": "n-9P7uhSPuNj"
      },
      "execution_count": 15,
      "outputs": []
    },
    {
      "cell_type": "code",
      "source": [
        "df5 = pd.read_csv('/content/SINASC_RO_2019_JUL.csv')"
      ],
      "metadata": {
        "id": "SwMzGJXzPyXh"
      },
      "execution_count": 16,
      "outputs": []
    },
    {
      "cell_type": "code",
      "source": [
        "if 'DTNASC' in df.columns:\n",
        "    df['data'] = pd.to_datetime(df['DTNASC'])\n",
        "    df['mês'] = df['data'].dt.strftime('%Y-%m')\n",
        "    print(df[['data', 'mês']].head())"
      ],
      "metadata": {
        "colab": {
          "base_uri": "https://localhost:8080/"
        },
        "id": "EjjY-sXIQjBR",
        "outputId": "38c1fc98-29ca-4a92-8973-46a551a54cfe"
      },
      "execution_count": 20,
      "outputs": [
        {
          "output_type": "stream",
          "name": "stdout",
          "text": [
            "        data      mês\n",
            "0 2019-02-19  2019-02\n",
            "1 2019-02-21  2019-02\n",
            "2 2019-02-25  2019-02\n",
            "3 2019-03-20  2019-03\n",
            "4 2019-03-23  2019-03\n"
          ]
        }
      ]
    },
    {
      "cell_type": "code",
      "source": [
        "meses = ['2019-05', '2019-06', '2019-07']"
      ],
      "metadata": {
        "id": "2i5XQuXkQ1lc"
      },
      "execution_count": 18,
      "outputs": []
    },
    {
      "cell_type": "code",
      "source": [
        "for mes in meses:\n",
        "    df_mes = df[df['mês'] == mes]\n",
        "    if not df_mes.empty:\n",
        "        plt.figure(figsize=(10, 6))\n",
        "        plt.plot(df_mes['data'], df_mes['valor'], marker='o', linestyle='-', label=f'Mês {mes}')\n",
        "        plt.title(f'Dados para {mes}')\n",
        "        plt.xlabel('Data')\n",
        "        plt.ylabel('Valor')\n",
        "        plt.legend()\n",
        "        plt.savefig(os.path.join(mes, 'grafico.png'))\n",
        "        plt.close()"
      ],
      "metadata": {
        "id": "ZrrzH5c2Tm-Y"
      },
      "execution_count": 22,
      "outputs": []
    },
    {
      "cell_type": "code",
      "source": [
        "def abreviatura_para_mes(abreviaturas):\n",
        "    meses = {\n",
        "        'JAN': '01',\n",
        "        'FEV': '02',\n",
        "        'MAR': '03',\n",
        "        'ABR': '04',\n",
        "        'MAI': '05',\n",
        "        'JUN': '06',\n",
        "        'JUL': '07',\n",
        "        'AGO': '08',\n",
        "        'SET': '09',\n",
        "        'OUT': '10',\n",
        "        'NOV': '11',\n",
        "        'DEZ': '12',\n",
        "    }\n",
        "    ano = '2019'  # Definindo ano fixo para simplicidade\n",
        "\n",
        "    # Filtrando os argumentos que não são abreviaturas válidas\n",
        "    abreviaturas_validas = [abr for abr in abreviaturas if abr in meses]\n",
        "\n",
        "    # Imprimindo um aviso para as abreviaturas inválidas\n",
        "    abreviaturas_invalidas = [abr for abr in abreviaturas if abr not in meses]\n",
        "    if abreviaturas_invalidas:\n",
        "        print(f\"Aviso: As seguintes abreviaturas são inválidas e serão ignoradas: {abreviaturas_invalidas}\")\n",
        "\n",
        "    return [f\"{ano}-{meses[abreviatura]}\" for abreviatura in abreviaturas_validas]\n",
        "\n",
        "if __name__ == \"__main__\":\n",
        "    # Removendo o argumento '-f' se existir\n",
        "    sys.argv = [arg for arg in sys.argv if arg != '-f']\n",
        "\n",
        "    if len(sys.argv) < 2:\n",
        "        print(\"Uso: python gerar_analise.py MAR ABR MAI JUN JUL\")\n",
        "        sys.exit(1)\n",
        "\n",
        "    abreviaturas = sys.argv[1:]\n",
        "    meses = abreviatura_para_mes(abreviaturas)\n",
        "    # gerar_analise(meses) # Supondo que gerar_analise esteja definido em outro lugar"
      ],
      "metadata": {
        "colab": {
          "base_uri": "https://localhost:8080/"
        },
        "id": "ShC_83BdUS-K",
        "outputId": "41f9d00b-257a-4d42-e1fb-295f41d46aad"
      },
      "execution_count": 28,
      "outputs": [
        {
          "output_type": "stream",
          "name": "stdout",
          "text": [
            "Aviso: As seguintes abreviaturas são inválidas e serão ignoradas: ['/root/.local/share/jupyter/runtime/kernel-63925864-b0f6-4713-bd2c-67cad2ac70a3.json']\n"
          ]
        }
      ]
    }
  ]
}